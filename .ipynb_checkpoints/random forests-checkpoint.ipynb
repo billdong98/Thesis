{
 "cells": [
  {
   "cell_type": "code",
   "execution_count": 1,
   "metadata": {
    "ExecuteTime": {
     "end_time": "2020-03-04T21:49:10.996756Z",
     "start_time": "2020-03-04T21:49:10.472412Z"
    },
    "collapsed": true
   },
   "outputs": [],
   "source": [
    "import nflgame\n",
    "\n",
    "# returns the field position as the number of yards away from the opposing team's end zone\n",
    "def field_pos_to_number(pos):\n",
    "    pos = pos.split(\" \")\n",
    "    if pos[0] == \"MIDFIELD\":\n",
    "        return 50\n",
    "    elif pos[0] == \"OWN\":\n",
    "        return 100-int(pos[1])\n",
    "    elif pos[0] == \"OPP\":\n",
    "        return int(pos[1])\n",
    "    \n",
    "# returns the current game clock as a quarter, clock tuple\n",
    "def clock_to_nums(clock):\n",
    "    clock = clock.split(\" \")\n",
    "    clock[0] = min(int(clock[0][1:]), 5)\n",
    "    return clock[0], clock[1]\n",
    "\n",
    "# returns the current play in a different format\n",
    "def convert_play(p):\n",
    "    quarter, time = clock_to_nums(p[2])\n",
    "    return [quarter, time, p[3], p[4], field_pos_to_number(p[5]), p[-5], p[-4], p[-3], p[-2], p[-1]]\n",
    "    \n",
    "# get number of points scored on the conversion attempt after a touchdown\n",
    "def get_conversion(plays, scores, i):\n",
    "    # use list of scoring plays to figure out conversions\n",
    "    if i < len(scores):\n",
    "        #print(scores[i])\n",
    "        if \" TD \" in scores[i]:\n",
    "            if \"failed\" in scores[i]:\n",
    "                return 0, i+1\n",
    "            if \"kick is good\" in scores[i]:\n",
    "                return 1, i+1\n",
    "            if \"run)\" in scores[i] or \"pass)\" in scores[i]:\n",
    "                return 2, i+1\n",
    "            if i < len(scores)-1 and \"defensive two point conversion\" in scores[i+1]:\n",
    "                return -1, i+2\n",
    "    return 0, i+1\n",
    "\n",
    "# get all plays for a given game in the proper format\n",
    "def get_all_plays2(game, spread):   \n",
    "    plays = nflgame.combine_plays([game])\n",
    "    scores = game.scores\n",
    "    score_index = 0\n",
    "    home = 0\n",
    "    away = 0\n",
    "    win = (game.score_home >= game.score_away)\n",
    "    plays2 = []\n",
    "    for p in plays:\n",
    "        plays2.append(p)\n",
    "\n",
    "    all_plays = []\n",
    "    for i in range(len(plays2)):\n",
    "        p = plays2[i]\n",
    "        if (p.down > 0 and str(p.time) != \"None\" and str(p.yardline) != \"None\"): # or p.note == \"KICKOFF\":\n",
    "            # add play to all plays\n",
    "            temp_play = [game.home, game.away, str(p.time), p.down, p.yards_togo, \n",
    "                         str(p.yardline), p.home, home, away, spread, win]\n",
    "            all_plays.append(convert_play(temp_play))\n",
    "#         if (not p.note == None) and len(p.note) >= 2 and (p.note[:2] == \"2P\" or p.note[:2] == \"XP\"):\n",
    "#             print(p.note)\n",
    "        # do scoring stuff\n",
    "        if p.note == \"TD\":\n",
    "            pts = 6\n",
    "            is_home = p.home\n",
    "            if p.punting_tot == 1:\n",
    "                is_home = (not is_home)\n",
    "            if p.defense_tds == 1:\n",
    "                is_home = (not is_home)\n",
    "#             is_home = True\n",
    "#             if (not p.home and p.defense_tds != 1) or (p.home and p.defense_tds == 1):\n",
    "#                 is_home = False\n",
    "            conv, score_index = get_conversion(plays2, scores, score_index)\n",
    "            # add conversion points if it wasn't a defensive 2 point conversion\n",
    "            if conv != -1:\n",
    "                pts += conv\n",
    "            if is_home:\n",
    "                home += pts\n",
    "            else:\n",
    "                away += pts\n",
    "            # handle defensive 2 point conversion \n",
    "            if conv == -1:\n",
    "                if is_home:\n",
    "                    away += 2\n",
    "                else:\n",
    "                    home += 2\n",
    "            #print(str(home) + \"-\" + str(away))\n",
    "\n",
    "        elif p.note == \"FG\":\n",
    "            if p.home:\n",
    "                home += 3\n",
    "            else:\n",
    "                away += 3\n",
    "            score_index += 1\n",
    "                \n",
    "        elif p.note == \"SAF\":\n",
    "            if scores[score_index].split(\"-\")[0][:-1] == str(game.home):\n",
    "                home += 2\n",
    "            else:\n",
    "                away += 2\n",
    "            score_index += 1\n",
    "\n",
    "    return home, away, all_plays\n",
    "\n",
    "def fix_name(t):\n",
    "    if t == \"SD\":\n",
    "        t = \"LAC\"\n",
    "    if t == \"LA\" or t == \"STL\":\n",
    "        t = \"LAR\"\n",
    "    if t == \"JAC\":\n",
    "        t = \"JAX\"\n",
    "    return t"
   ]
  },
  {
   "cell_type": "markdown",
   "metadata": {},
   "source": [
    "## spread data"
   ]
  },
  {
   "cell_type": "code",
   "execution_count": 2,
   "metadata": {
    "ExecuteTime": {
     "end_time": "2020-03-04T21:49:12.552970Z",
     "start_time": "2020-03-04T21:49:12.012385Z"
    }
   },
   "outputs": [
    {
     "data": {
      "text/html": [
       "<div>\n",
       "<style>\n",
       "    .dataframe thead tr:only-child th {\n",
       "        text-align: right;\n",
       "    }\n",
       "\n",
       "    .dataframe thead th {\n",
       "        text-align: left;\n",
       "    }\n",
       "\n",
       "    .dataframe tbody tr th {\n",
       "        vertical-align: top;\n",
       "    }\n",
       "</style>\n",
       "<table border=\"1\" class=\"dataframe\">\n",
       "  <thead>\n",
       "    <tr style=\"text-align: right;\">\n",
       "      <th></th>\n",
       "      <th>schedule_season</th>\n",
       "      <th>schedule_week</th>\n",
       "      <th>date</th>\n",
       "      <th>team1</th>\n",
       "      <th>team2</th>\n",
       "      <th>score1</th>\n",
       "      <th>score2</th>\n",
       "      <th>elo1_pre</th>\n",
       "      <th>elo2_pre</th>\n",
       "      <th>elo_prob1</th>\n",
       "      <th>elo_prob2</th>\n",
       "      <th>qbelo1_pre</th>\n",
       "      <th>qbelo2_pre</th>\n",
       "      <th>qbelo_prob1</th>\n",
       "      <th>qbelo_prob2</th>\n",
       "      <th>elo_spread</th>\n",
       "      <th>qb_spread</th>\n",
       "      <th>vegas_spread</th>\n",
       "      <th>result</th>\n",
       "    </tr>\n",
       "  </thead>\n",
       "  <tbody>\n",
       "    <tr>\n",
       "      <th>7222</th>\n",
       "      <td>2009</td>\n",
       "      <td>1</td>\n",
       "      <td>2009-09-10</td>\n",
       "      <td>PIT</td>\n",
       "      <td>TEN</td>\n",
       "      <td>13.0</td>\n",
       "      <td>10.0</td>\n",
       "      <td>1644.566</td>\n",
       "      <td>1592.943</td>\n",
       "      <td>0.661802</td>\n",
       "      <td>0.338198</td>\n",
       "      <td>1610.471883</td>\n",
       "      <td>1553.197070</td>\n",
       "      <td>0.658697</td>\n",
       "      <td>0.341303</td>\n",
       "      <td>-4.66492</td>\n",
       "      <td>-4.568719</td>\n",
       "      <td>-6.5</td>\n",
       "      <td>-3.0</td>\n",
       "    </tr>\n",
       "    <tr>\n",
       "      <th>7223</th>\n",
       "      <td>2009</td>\n",
       "      <td>1</td>\n",
       "      <td>2009-09-13</td>\n",
       "      <td>ARI</td>\n",
       "      <td>SF</td>\n",
       "      <td>16.0</td>\n",
       "      <td>20.0</td>\n",
       "      <td>1550.108</td>\n",
       "      <td>1453.624</td>\n",
       "      <td>0.716989</td>\n",
       "      <td>0.283011</td>\n",
       "      <td>1526.281842</td>\n",
       "      <td>1454.182452</td>\n",
       "      <td>0.694459</td>\n",
       "      <td>0.305541</td>\n",
       "      <td>-6.45936</td>\n",
       "      <td>-5.705234</td>\n",
       "      <td>-4.5</td>\n",
       "      <td>4.0</td>\n",
       "    </tr>\n",
       "    <tr>\n",
       "      <th>7224</th>\n",
       "      <td>2009</td>\n",
       "      <td>1</td>\n",
       "      <td>2009-09-13</td>\n",
       "      <td>ATL</td>\n",
       "      <td>MIA</td>\n",
       "      <td>19.0</td>\n",
       "      <td>7.0</td>\n",
       "      <td>1527.719</td>\n",
       "      <td>1514.267</td>\n",
       "      <td>0.611021</td>\n",
       "      <td>0.388979</td>\n",
       "      <td>1517.459685</td>\n",
       "      <td>1470.611588</td>\n",
       "      <td>0.640480</td>\n",
       "      <td>0.359520</td>\n",
       "      <td>-3.13808</td>\n",
       "      <td>-4.012509</td>\n",
       "      <td>-4.0</td>\n",
       "      <td>-12.0</td>\n",
       "    </tr>\n",
       "    <tr>\n",
       "      <th>7225</th>\n",
       "      <td>2009</td>\n",
       "      <td>1</td>\n",
       "      <td>2009-09-13</td>\n",
       "      <td>BAL</td>\n",
       "      <td>KC</td>\n",
       "      <td>38.0</td>\n",
       "      <td>24.0</td>\n",
       "      <td>1613.810</td>\n",
       "      <td>1358.667</td>\n",
       "      <td>0.863290</td>\n",
       "      <td>0.136710</td>\n",
       "      <td>1544.975085</td>\n",
       "      <td>1395.673582</td>\n",
       "      <td>0.776936</td>\n",
       "      <td>0.223064</td>\n",
       "      <td>-12.80572</td>\n",
       "      <td>-8.671284</td>\n",
       "      <td>-13.0</td>\n",
       "      <td>-14.0</td>\n",
       "    </tr>\n",
       "    <tr>\n",
       "      <th>7226</th>\n",
       "      <td>2009</td>\n",
       "      <td>1</td>\n",
       "      <td>2009-09-13</td>\n",
       "      <td>CAR</td>\n",
       "      <td>PHI</td>\n",
       "      <td>10.0</td>\n",
       "      <td>38.0</td>\n",
       "      <td>1529.671</td>\n",
       "      <td>1603.684</td>\n",
       "      <td>0.487032</td>\n",
       "      <td>0.512968</td>\n",
       "      <td>1520.135114</td>\n",
       "      <td>1570.740791</td>\n",
       "      <td>0.490166</td>\n",
       "      <td>0.509834</td>\n",
       "      <td>0.36052</td>\n",
       "      <td>0.273370</td>\n",
       "      <td>2.5</td>\n",
       "      <td>28.0</td>\n",
       "    </tr>\n",
       "  </tbody>\n",
       "</table>\n",
       "</div>"
      ],
      "text/plain": [
       "      schedule_season schedule_week        date team1 team2  score1  score2  \\\n",
       "7222             2009             1  2009-09-10   PIT   TEN    13.0    10.0   \n",
       "7223             2009             1  2009-09-13   ARI    SF    16.0    20.0   \n",
       "7224             2009             1  2009-09-13   ATL   MIA    19.0     7.0   \n",
       "7225             2009             1  2009-09-13   BAL    KC    38.0    24.0   \n",
       "7226             2009             1  2009-09-13   CAR   PHI    10.0    38.0   \n",
       "\n",
       "      elo1_pre  elo2_pre  elo_prob1  elo_prob2   qbelo1_pre   qbelo2_pre  \\\n",
       "7222  1644.566  1592.943   0.661802   0.338198  1610.471883  1553.197070   \n",
       "7223  1550.108  1453.624   0.716989   0.283011  1526.281842  1454.182452   \n",
       "7224  1527.719  1514.267   0.611021   0.388979  1517.459685  1470.611588   \n",
       "7225  1613.810  1358.667   0.863290   0.136710  1544.975085  1395.673582   \n",
       "7226  1529.671  1603.684   0.487032   0.512968  1520.135114  1570.740791   \n",
       "\n",
       "      qbelo_prob1  qbelo_prob2  elo_spread  qb_spread  vegas_spread  result  \n",
       "7222     0.658697     0.341303    -4.66492  -4.568719          -6.5    -3.0  \n",
       "7223     0.694459     0.305541    -6.45936  -5.705234          -4.5     4.0  \n",
       "7224     0.640480     0.359520    -3.13808  -4.012509          -4.0   -12.0  \n",
       "7225     0.776936     0.223064   -12.80572  -8.671284         -13.0   -14.0  \n",
       "7226     0.490166     0.509834     0.36052   0.273370           2.5    28.0  "
      ]
     },
     "execution_count": 2,
     "metadata": {},
     "output_type": "execute_result"
    }
   ],
   "source": [
    "import pandas as pd\n",
    "\n",
    "data = pd.read_csv(\"elo_and_vegas_spreads2.csv\")\n",
    "\n",
    "data = data.drop(data.columns[0], axis=1)\n",
    "data = data[data[\"schedule_season\"] >= 2009]\n",
    "data = data[data[\"schedule_playoff\"] == False]\n",
    "data.drop([\"schedule_playoff\"],axis=1,inplace=True)\n",
    "data.head()"
   ]
  },
  {
   "cell_type": "markdown",
   "metadata": {},
   "source": [
    "## data cleaning"
   ]
  },
  {
   "cell_type": "code",
   "execution_count": 12,
   "metadata": {
    "ExecuteTime": {
     "end_time": "2020-03-05T01:47:09.987511Z",
     "start_time": "2020-03-05T01:47:08.105246Z"
    },
    "collapsed": true
   },
   "outputs": [],
   "source": [
    "import matplotlib.pyplot as plt\n",
    "\n",
    "# get all plays from all weeks in weeks and all seasons in years. calls get_all_plays2\n",
    "def get_plays(years, weeks, indexes=-1):\n",
    "    all_plays = []\n",
    "    for y in years:\n",
    "        print(y)\n",
    "        for w in weeks:\n",
    "            #print(w)\n",
    "            try:\n",
    "                games = nflgame.games(y, week=w, kind='REG')\n",
    "            except:\n",
    "                continue\n",
    "            current = data[(data[\"schedule_season\"] == y) & (data[\"schedule_week\"] == str(w))]\n",
    "            if not indexes == -1:\n",
    "                games = [games[i] for i in indexes]\n",
    "            for g in games:\n",
    "                t1 = g.home\n",
    "                t2 = g.away\n",
    "                t1 = fix_name(t1)\n",
    "                t2 = fix_name(t2)\n",
    "                #print(t2)\n",
    "                spread = list(current.loc[(current[\"team1\"] == t1) & (current[\"team2\"] == t2)][\"vegas_spread\"])\n",
    "                if len(spread) > 0:\n",
    "                    h, a, cur_plays = get_all_plays2(g, spread[0])\n",
    "                    if h != g.score_home or a != g.score_away:\n",
    "                        #print(\"Actual: \" + str(g.score_home) + \"-\" + str(g.score_away) + \", Mine: \" + str(h) + \"-\" + \n",
    "                          #    str(a) + \" \" + str(g.home) + \" \" +str(g.away))\n",
    "                        continue\n",
    "                    all_plays += cur_plays\n",
    "    return all_plays\n",
    "\n",
    "# final model?\n",
    "def collect_plays(all_plays):\n",
    "    # collect plays and add interaction terms\n",
    "    x_data = []\n",
    "    y_data = []\n",
    "    for p in all_plays:\n",
    "        qtr = p[0]\n",
    "        time = p[1].split(\":\")\n",
    "        if len(time[0]) == 0:\n",
    "            continue\n",
    "        mins_left = 15*(4-min(qtr,4))+int(time[0])\n",
    "        secs_left = int(time[1])\n",
    "        time_left = round(mins_left + secs_left/60.,2)\n",
    "\n",
    "        x_data.append([time_left]+p[2:-1])\n",
    "        y_data.append(1 if p[-1] else 0)\n",
    "\n",
    "    df = pd.DataFrame(x_data, columns=[\"time\", \"down\", \"distance\", \"fieldpos\", \"homeposs\", \"score_home\", \n",
    "                                      \"score_away\", \"spread\"])\n",
    "\n",
    "    # basic terms\n",
    "    df[\"scorediff\"] = df[\"score_home\"] - df[\"score_away\"]\n",
    "    df[\"down1\"] = df[\"down\"].apply(lambda x : 1 if x == 1 else 0)\n",
    "    df[\"down2\"] = df[\"down\"].apply(lambda x : 1 if x == 2 else 0)\n",
    "    df[\"down3\"] = df[\"down\"].apply(lambda x : 1 if x == 3 else 0)\n",
    "    df[\"down4\"] = df[\"down\"].apply(lambda x : 1 if x == 4 else 0)\n",
    "    df[\"homeposs\"] = df[\"homeposs\"].apply(lambda x : 1 if x else 0)\n",
    "    \n",
    "    # interaction terms\n",
    "    df[\"down1*poss\"] = df[\"down1\"] * df[\"homeposs\"]\n",
    "    df[\"down2*poss\"] = df[\"down2\"] * df[\"homeposs\"]\n",
    "    df[\"down3*poss\"] = df[\"down3\"] * df[\"homeposs\"]\n",
    "    df[\"down4*poss\"] = df[\"down4\"] * df[\"homeposs\"]\n",
    "    df[\"distance*poss\"] = df[\"distance\"] * df[\"homeposs\"]\n",
    "    df[\"fieldpos*poss\"] = df[\"fieldpos\"] * df[\"homeposs\"]\n",
    "    \n",
    "    # more interaction terms\n",
    "    df[\"time*poss\"] = (60-df[\"time\"]) * df[\"homeposs\"]\n",
    "    df[\"time*spread\"] = df[\"time\"] * df[\"spread\"]\n",
    "    df[\"time*scorediff\"] = (60-df[\"time\"]) * df[\"scorediff\"]\n",
    "    df[\"fgrange\"] = df[\"fieldpos\"].apply(lambda x : 1 if x <= 35 else 0)\n",
    "    df[\"fgrange*poss\"] = df[\"fgrange\"] * df[\"homeposs\"]\n",
    "\n",
    "    # additional terms\n",
    "    df[\"last5\"] = df[\"time\"].apply(lambda x : 1 if x <= 5 else 0)\n",
    "    df[\"close\"] = df[\"scorediff\"].apply(lambda x : 1 if abs(x) <= 8 else 0)\n",
    "    df[\"last5min_close\"] = df[\"last5\"] * df[\"close\"]\n",
    "    df[\"last5min_close_poss\"] = df[\"last5min_close\"] * df[\"homeposs\"]\n",
    "    \n",
    "    # score correction\n",
    "    df[\"sqrt_time\"] = df[\"time\"].apply(lambda x : 1 + np.sqrt(x))\n",
    "    df[\"score_correction\"] = df[\"scorediff\"] / df[\"sqrt_time\"]\n",
    "    \n",
    "    df.drop([\"score_correction\", \"homeposs\", \"down\", \"score_home\", \"score_away\", \"last5\", \n",
    "             \"close\", \"sqrt_time\"], axis=1, inplace=True)\n",
    "    \n",
    "    return df, y_data\n",
    "\n",
    "def remove_features(df):\n",
    "    df.drop([\"time*poss\", \"time*spread\", \"time*scorediff\", \"fgrange\", \"fgrange*poss\", \n",
    "             \"last5min_close\", \"last5min_close_poss\"], axis=1, inplace=True)\n",
    "    return df\n",
    "\n",
    "def check_wp(x, y, model, threshold):\n",
    "    y_pred = model.predict(x)\n",
    "    \n",
    "    results = []\n",
    "    for i in range(len(y_pred)):\n",
    "        if abs(y_pred[i]-threshold) <= 0.01:\n",
    "            if y[i] == 1:\n",
    "                results.append(1)\n",
    "            else:\n",
    "                results.append(0)\n",
    "    #print(count)\n",
    "    m = np.mean(results)\n",
    "    return m, np.sqrt(m*(1-m)/len(results))\n",
    "\n",
    "def check_wp2(x, y, model, threshold):\n",
    "    y_pred = model.predict(x)\n",
    "    time_left = list(x[\"time\"])\n",
    "    \n",
    "    results = []\n",
    "    for i in range(len(y_pred)):\n",
    "        if time_left[i] > 5:\n",
    "            continue\n",
    "        if abs(y_pred[i]-threshold) <= 0.01:\n",
    "            if y[i] == 1:\n",
    "                results.append(1)\n",
    "            else:\n",
    "                results.append(0)\n",
    "    #print(count)\n",
    "    m = np.mean(results)\n",
    "    return m, np.sqrt(m*(1-m)/len(results))\n",
    "\n",
    "# check accuracy using original mse thing\n",
    "def check_model_accuracy(test_x, test_y, model, last5):\n",
    "    x = np.arange(0,1.01,0.05)\n",
    "    y = []\n",
    "    ses = []\n",
    "    se = 0\n",
    "    for i in x:\n",
    "        if not last5:\n",
    "            cur_mean, cur_se = check_wp(test_x, test_y, model, i)\n",
    "        else:\n",
    "            cur_mean, cur_se = check_wp2(test_x, test_y, model, i)\n",
    "        y.append(cur_mean)\n",
    "        ses.append(cur_se)\n",
    "        print(str(round(i,2)) + \": \" + str(round(cur_mean,3)) + \", SE = \" + str(round(cur_se, 3)))\n",
    "        se += (cur_mean-i)**2\n",
    "\n",
    "    print(\"\")\n",
    "    print(\"mse: \" + str(se/len(x)))\n",
    "\n",
    "    plt.close()\n",
    "    plt.plot(x,x) # for reference\n",
    "    plt.plot(x,y)\n",
    "    plt.xlabel(\"k\")\n",
    "    plt.ylabel(\"Winning probability\")\n",
    "    #plt.savefig(\"/Users/Bill/Documents/Fall 2019/THesis/interimreport/plot1.png\")\n",
    "    plt.show()\n",
    "    \n",
    "# check accuracy using the brier score\n",
    "def check_model_accuracy2(test_x, test_y, model):\n",
    "    x = np.arange(0,1.01,0.05)\n",
    "    y = []\n",
    "    se = 0\n",
    "    count = 0\n",
    "    for i in x:\n",
    "        cur_mean, cur_se, cur_num = get_brier(test_x, test_y, model, i)\n",
    "        y.append(cur_mean)\n",
    "        print(str(round(i,2)) + \": \" + str(round(cur_mean,3)))\n",
    "        se += cur_se\n",
    "        count += cur_num\n",
    "\n",
    "    print(\"\")\n",
    "    print(\"brier score: \" + str(se/count))\n",
    "\n",
    "    plt.close()\n",
    "    plt.plot(x,x) # for reference\n",
    "    plt.plot(x,y)\n",
    "    plt.xlabel(\"k\")\n",
    "    plt.ylabel(\"Winning probability\")\n",
    "    #plt.savefig(\"/Users/Bill/Documents/Fall 2019/THesis/interimreport/plot1.png\")\n",
    "    plt.show()\n",
    "    \n",
    "def get_brier(x, y, model, threshold):\n",
    "    y_pred = model.predict(x)\n",
    "    \n",
    "    results = []\n",
    "    errors = []\n",
    "    \n",
    "    y_pred = list(y_pred)\n",
    "    for i in range(len(y_pred)):\n",
    "        if abs(y_pred[i]-threshold) <= 0.01:\n",
    "            if y[i] == 1:\n",
    "                results.append(1)\n",
    "            else:\n",
    "                results.append(0)\n",
    "            errors.append((y[i]-y_pred[i])**2)\n",
    "    #print(count)\n",
    "    return np.mean(results), sum(errors), len(errors)\n",
    "\n",
    "# check accuracy using the brier score\n",
    "def check_model_accuracy_all(test_x, test_y, model):\n",
    "    x = np.arange(0,1.01,0.05)\n",
    "    y = []\n",
    "    brier = 0\n",
    "    se = 0\n",
    "    count = 0\n",
    "    for i in x:\n",
    "        cur_mean, cur_brier, cur_num = get_brier(test_x, test_y, model, i)\n",
    "        y.append(cur_mean)\n",
    "        print(str(round(i,2)) + \": \" + str(round(cur_mean,3)))\n",
    "        brier += cur_brier\n",
    "        se += (cur_mean-i)**2\n",
    "        count += cur_num\n",
    "\n",
    "    print(\"\")\n",
    "    print(\"mse: \" + str(se/len(x)))\n",
    "    print(\"brier score: \" + str(brier/count))\n",
    "\n",
    "    plt.close()\n",
    "    plt.plot(x,x) # for reference\n",
    "    plt.plot(x,y)\n",
    "    plt.xlabel(\"k\")\n",
    "    plt.ylabel(\"Winning probability\")\n",
    "    #plt.savefig(\"/Users/Bill/Documents/Fall 2019/THesis/interimreport/plot1.png\")\n",
    "    plt.show()\n",
    "    \n",
    "# check accuracy using the brier score\n",
    "def check_model_accuracy_times(old_test_x, old_test_y, model, start_time, end_time):\n",
    "    indices = old_test_x.index[(old_test_x[\"time\"] <= start_time) & (old_test_x[\"time\"] >= end_time)].tolist()\n",
    "    test_x = old_test_x.loc[indices, :]\n",
    "    test_y = [old_test_y[i] for i in indices]\n",
    "    \n",
    "    #print(test_x.head())\n",
    "    \n",
    "    x = np.arange(0,1.01,0.05)\n",
    "    y = []\n",
    "    brier = 0\n",
    "    se = 0\n",
    "    count = 0\n",
    "    for i in x:\n",
    "        cur_mean, cur_brier, cur_num = get_brier(test_x, test_y, model, i)\n",
    "        y.append(cur_mean)\n",
    "        print(str(round(i,2)) + \": \" + str(round(cur_mean,3)) + \", brier: \" + str(round(cur_brier/cur_num, 3)))\n",
    "        brier += cur_brier\n",
    "        se += (cur_mean-i)**2\n",
    "        count += cur_num\n",
    "\n",
    "    print(\"\")\n",
    "    print(\"mse: \" + str(se/len(x)))\n",
    "    print(\"brier score: \" + str(brier/count))\n",
    "\n",
    "    plt.close()\n",
    "    plt.plot(x,x) # for reference\n",
    "    plt.plot(x,y)\n",
    "    plt.xlabel(\"k\")\n",
    "    plt.ylabel(\"Winning probability\")\n",
    "    #plt.savefig(\"/Users/Bill/Documents/Fall 2019/THesis/interimreport/plot1.png\")\n",
    "    plt.show()"
   ]
  },
  {
   "cell_type": "code",
   "execution_count": 33,
   "metadata": {
    "ExecuteTime": {
     "end_time": "2020-03-05T02:52:30.216122Z",
     "start_time": "2020-03-05T02:51:20.712433Z"
    }
   },
   "outputs": [
    {
     "name": "stdout",
     "output_type": "stream",
     "text": [
      "2009\n",
      "2010\n",
      "2011\n",
      "2012\n",
      "2013\n",
      "2014\n",
      "2015\n",
      "2016\n",
      "2017\n",
      "2018\n"
     ]
    }
   ],
   "source": [
    "import random\n",
    "import numpy as np\n",
    "from sklearn.linear_model import LogisticRegression\n",
    "import statsmodels.api as sm\n",
    "\n",
    "train_fraction = 0.7\n",
    "\n",
    "years = [i for i in range(2009,2019)]\n",
    "weeks = [i for i in range(1,18)]\n",
    "plays = get_plays(years,weeks)\n",
    "\n",
    "x_data, y_data = collect_plays(plays)\n",
    "\n",
    "# convert to lists, randomize\n",
    "cols = list(x_data)\n",
    "x_data = x_data.values.tolist()\n",
    "alldata = list(zip(x_data, y_data))\n",
    "random.shuffle(alldata)\n",
    "x_data, y_data = zip(*alldata)\n",
    "x_data = list(x_data)\n",
    "y_data = list(y_data)\n",
    "\n",
    "# simpler model\n",
    "x_data2 = pd.DataFrame(data=np.array(x_data), columns=cols)\n",
    "x_data2 = remove_features(x_data2)\n",
    "cols2 = list(x_data2)\n",
    "x_data2 = x_data2.values.tolist()\n",
    "\n",
    "# take the appropriate training and testing sets\n",
    "num_points = int(train_fraction*len(x_data))\n",
    "train_x = pd.DataFrame(x_data[:num_points], columns=cols)\n",
    "train_y = y_data[:num_points]\n",
    "test_x = pd.DataFrame(x_data[num_points:], columns=cols)\n",
    "test_y = y_data[num_points:]\n",
    "\n",
    "# training and testing for simpler model\n",
    "train_x2 = pd.DataFrame(x_data2[:num_points], columns=cols2)\n",
    "test_x2 = pd.DataFrame(x_data2[num_points:], columns=cols2)"
   ]
  },
  {
   "cell_type": "code",
   "execution_count": 11,
   "metadata": {
    "ExecuteTime": {
     "end_time": "2020-02-17T22:22:53.058686Z",
     "start_time": "2020-02-17T22:22:53.054822Z"
    },
    "collapsed": true
   },
   "outputs": [],
   "source": [
    "test_x = train_x[:10000]\n",
    "test_y = train_y[:10000]"
   ]
  },
  {
   "cell_type": "code",
   "execution_count": 14,
   "metadata": {
    "ExecuteTime": {
     "end_time": "2020-03-05T02:06:09.005556Z",
     "start_time": "2020-03-05T02:04:50.936983Z"
    }
   },
   "outputs": [
    {
     "data": {
      "text/plain": [
       "RandomForestRegressor(bootstrap=True, criterion='mse', max_depth=None,\n",
       "           max_features='auto', max_leaf_nodes=None,\n",
       "           min_impurity_decrease=0.0, min_impurity_split=None,\n",
       "           min_samples_leaf=10, min_samples_split=2,\n",
       "           min_weight_fraction_leaf=0.0, n_estimators=100, n_jobs=1,\n",
       "           oob_score=False, random_state=None, verbose=0, warm_start=False)"
      ]
     },
     "execution_count": 14,
     "metadata": {},
     "output_type": "execute_result"
    }
   ],
   "source": [
    "from sklearn.ensemble import RandomForestRegressor\n",
    "\n",
    "regressor = RandomForestRegressor(n_estimators = 100, min_samples_leaf=10)\n",
    "regressor.fit(train_x2, train_y)"
   ]
  },
  {
   "cell_type": "code",
   "execution_count": 15,
   "metadata": {
    "ExecuteTime": {
     "end_time": "2020-03-05T02:07:22.081373Z",
     "start_time": "2020-03-05T02:06:41.151804Z"
    }
   },
   "outputs": [
    {
     "name": "stdout",
     "output_type": "stream",
     "text": [
      "0.0: 0.001, brier: 0.001\n",
      "0.05: 0.019, brier: 0.02\n",
      "0.1: 0.05, brier: 0.05\n",
      "0.15: 0.101, brier: 0.093\n",
      "0.2: 0.169, brier: 0.142\n",
      "0.25: 0.195, brier: 0.16\n",
      "0.3: 0.27, brier: 0.198\n",
      "0.35: 0.329, brier: 0.221\n",
      "0.4: 0.377, brier: 0.235\n",
      "0.45: 0.449, brier: 0.247\n",
      "0.5: 0.512, brier: 0.25\n",
      "0.55: 0.55, brier: 0.247\n",
      "0.6: 0.598, brier: 0.24\n",
      "0.65: 0.658, brier: 0.225\n",
      "0.7: 0.716, brier: 0.203\n",
      "0.75: 0.766, brier: 0.179\n",
      "0.8: 0.838, brier: 0.137\n",
      "0.85: 0.879, brier: 0.107\n",
      "0.9: 0.941, brier: 0.057\n",
      "0.95: 0.979, brier: 0.021\n",
      "1.0: 0.998, brier: 0.002\n",
      "\n",
      "mse: 0.0008151400855201938\n",
      "brier score: 0.09321862044120305\n"
     ]
    },
    {
     "data": {
      "image/png": "[encoded data removed]",
      "text/plain": [
       "<matplotlib.figure.Figure at 0x1c2d16fbe0>"
      ]
     },
     "metadata": {},
     "output_type": "display_data"
    }
   ],
   "source": [
    "check_model_accuracy_times(test_x2, test_y, regressor, 60, 0)"
   ]
  },
  {
   "cell_type": "code",
   "execution_count": 16,
   "metadata": {
    "ExecuteTime": {
     "end_time": "2020-03-05T02:08:05.723660Z",
     "start_time": "2020-03-05T02:08:02.736601Z"
    }
   },
   "outputs": [
    {
     "name": "stdout",
     "output_type": "stream",
     "text": [
      "0.0: 0.001, brier: 0.001\n",
      "0.05: 0.023, brier: 0.023\n",
      "0.1: 0.053, brier: 0.052\n",
      "0.15: 0.105, brier: 0.096\n",
      "0.2: 0.202, brier: 0.161\n",
      "0.25: 0.181, brier: 0.153\n",
      "0.3: 0.333, brier: 0.223\n",
      "0.35: 0.258, brier: 0.199\n",
      "0.4: 0.24, brier: 0.207\n",
      "0.45: 0.447, brier: 0.247\n",
      "0.5: 0.489, brier: 0.25\n",
      "0.55: 0.573, brier: 0.246\n",
      "0.6: 0.643, brier: 0.231\n",
      "0.65: 0.618, brier: 0.237\n",
      "0.7: 0.639, brier: 0.234\n",
      "0.75: 0.733, brier: 0.196\n",
      "0.8: 0.867, brier: 0.119\n",
      "0.85: 0.868, brier: 0.115\n",
      "0.9: 0.961, brier: 0.041\n",
      "0.95: 0.982, brier: 0.019\n",
      "1.0: 1.0, brier: 0.0\n",
      "\n",
      "mse: 0.0029572791632209755\n",
      "brier score: 0.03953049668814234\n"
     ]
    },
    {
     "data": {
      "image/png": "[encoded data removed]",
      "text/plain": [
       "<matplotlib.figure.Figure at 0x1c255e2cc0>"
      ]
     },
     "metadata": {},
     "output_type": "display_data"
    }
   ],
   "source": [
    "check_model_accuracy_times(test_x2, test_y, regressor, 5, 0)"
   ]
  },
  {
   "cell_type": "markdown",
   "metadata": {},
   "source": [
    "## random forests on last 5 minutes only"
   ]
  },
  {
   "cell_type": "code",
   "execution_count": 23,
   "metadata": {
    "ExecuteTime": {
     "end_time": "2020-03-05T02:10:42.868270Z",
     "start_time": "2020-03-05T02:10:34.483187Z"
    }
   },
   "outputs": [
    {
     "name": "stderr",
     "output_type": "stream",
     "text": [
      "/Users/Bill/anaconda3/lib/python3.6/site-packages/ipykernel_launcher.py:4: SettingWithCopyWarning: \n",
      "A value is trying to be set on a copy of a slice from a DataFrame\n",
      "\n",
      "See the caveats in the documentation: http://pandas.pydata.org/pandas-docs/stable/indexing.html#indexing-view-versus-copy\n",
      "  after removing the cwd from sys.path.\n"
     ]
    },
    {
     "data": {
      "text/plain": [
       "RandomForestRegressor(bootstrap=True, criterion='mse', max_depth=None,\n",
       "           max_features='auto', max_leaf_nodes=None,\n",
       "           min_impurity_decrease=0.0, min_impurity_split=None,\n",
       "           min_samples_leaf=10, min_samples_split=2,\n",
       "           min_weight_fraction_leaf=0.0, n_estimators=100, n_jobs=1,\n",
       "           oob_score=False, random_state=None, verbose=0, warm_start=False)"
      ]
     },
     "execution_count": 23,
     "metadata": {},
     "output_type": "execute_result"
    }
   ],
   "source": [
    "temp = pd.concat([train_x, pd.DataFrame(data=train_y, columns=[\"y\"])], axis=1)\n",
    "train_x_last5 = temp[temp[\"time\"] <= 5]\n",
    "train_y_last5 = train_x_last5[\"y\"].tolist()\n",
    "train_x_last5.drop([\"y\"], axis=1, inplace=True)\n",
    "\n",
    "regressor2 = RandomForestRegressor(n_estimators = 100, min_samples_leaf=10)\n",
    "regressor2.fit(train_x_last5, train_y_last5)"
   ]
  },
  {
   "cell_type": "code",
   "execution_count": 24,
   "metadata": {
    "ExecuteTime": {
     "end_time": "2020-03-05T02:10:46.992010Z",
     "start_time": "2020-03-05T02:10:44.728955Z"
    }
   },
   "outputs": [
    {
     "name": "stdout",
     "output_type": "stream",
     "text": [
      "0.0: 0.004, brier: 0.004\n",
      "0.05: 0.03, brier: 0.03\n",
      "0.1: 0.13, brier: 0.115\n",
      "0.15: 0.068, brier: 0.07\n",
      "0.2: 0.202, brier: 0.161\n",
      "0.25: 0.181, brier: 0.154\n",
      "0.3: 0.231, brier: 0.182\n",
      "0.35: 0.34, brier: 0.225\n",
      "0.4: 0.289, brier: 0.218\n",
      "0.45: 0.402, brier: 0.243\n",
      "0.5: 0.386, brier: 0.25\n",
      "0.55: 0.592, brier: 0.244\n",
      "0.6: 0.604, brier: 0.239\n",
      "0.65: 0.604, brier: 0.241\n",
      "0.7: 0.667, brier: 0.223\n",
      "0.75: 0.756, brier: 0.184\n",
      "0.8: 0.827, brier: 0.144\n",
      "0.85: 0.887, brier: 0.101\n",
      "0.9: 0.938, brier: 0.06\n",
      "0.95: 0.968, brier: 0.032\n",
      "1.0: 1.0, brier: 0.0\n",
      "\n",
      "mse: 0.0025798150780241254\n",
      "brier score: 0.041870685039168576\n"
     ]
    },
    {
     "data": {
      "image/png": "[encoded data removed]",
      "text/plain": [
       "<matplotlib.figure.Figure at 0x1c2ab95ac8>"
      ]
     },
     "metadata": {},
     "output_type": "display_data"
    }
   ],
   "source": [
    "check_model_accuracy_times(test_x, test_y, regressor2, 5, 0)"
   ]
  },
  {
   "cell_type": "code",
   "execution_count": 25,
   "metadata": {
    "ExecuteTime": {
     "end_time": "2020-03-05T02:11:02.619348Z",
     "start_time": "2020-03-05T02:10:57.696847Z"
    }
   },
   "outputs": [
    {
     "name": "stderr",
     "output_type": "stream",
     "text": [
      "/Users/Bill/anaconda3/lib/python3.6/site-packages/ipykernel_launcher.py:4: SettingWithCopyWarning: \n",
      "A value is trying to be set on a copy of a slice from a DataFrame\n",
      "\n",
      "See the caveats in the documentation: http://pandas.pydata.org/pandas-docs/stable/indexing.html#indexing-view-versus-copy\n",
      "  after removing the cwd from sys.path.\n"
     ]
    },
    {
     "data": {
      "text/plain": [
       "RandomForestRegressor(bootstrap=True, criterion='mse', max_depth=None,\n",
       "           max_features='auto', max_leaf_nodes=None,\n",
       "           min_impurity_decrease=0.0, min_impurity_split=None,\n",
       "           min_samples_leaf=10, min_samples_split=2,\n",
       "           min_weight_fraction_leaf=0.0, n_estimators=100, n_jobs=1,\n",
       "           oob_score=False, random_state=None, verbose=0, warm_start=False)"
      ]
     },
     "execution_count": 25,
     "metadata": {},
     "output_type": "execute_result"
    }
   ],
   "source": [
    "temp = pd.concat([train_x2, pd.DataFrame(data=train_y, columns=[\"y\"])], axis=1)\n",
    "train_x_last5 = temp[temp[\"time\"] <= 5]\n",
    "train_y_last5 = train_x_last5[\"y\"].tolist()\n",
    "train_x_last5.drop([\"y\"], axis=1, inplace=True)\n",
    "\n",
    "regressor3 = RandomForestRegressor(n_estimators = 100, min_samples_leaf=10)\n",
    "regressor3.fit(train_x_last5, train_y_last5)"
   ]
  },
  {
   "cell_type": "code",
   "execution_count": 26,
   "metadata": {
    "ExecuteTime": {
     "end_time": "2020-03-05T02:11:09.459971Z",
     "start_time": "2020-03-05T02:11:07.463016Z"
    }
   },
   "outputs": [
    {
     "name": "stdout",
     "output_type": "stream",
     "text": [
      "0.0: 0.002, brier: 0.002\n",
      "0.05: 0.024, brier: 0.024\n",
      "0.1: 0.147, brier: 0.127\n",
      "0.15: 0.11, brier: 0.099\n",
      "0.2: 0.159, brier: 0.135\n",
      "0.25: 0.185, brier: 0.154\n",
      "0.3: 0.19, brier: 0.166\n",
      "0.35: 0.341, brier: 0.225\n",
      "0.4: 0.269, brier: 0.214\n",
      "0.45: 0.425, brier: 0.245\n",
      "0.5: 0.471, brier: 0.249\n",
      "0.55: 0.491, brier: 0.254\n",
      "0.6: 0.569, brier: 0.246\n",
      "0.65: 0.542, brier: 0.26\n",
      "0.7: 0.694, brier: 0.212\n",
      "0.75: 0.718, brier: 0.204\n",
      "0.8: 0.856, brier: 0.126\n",
      "0.85: 0.858, brier: 0.122\n",
      "0.9: 0.936, brier: 0.061\n",
      "0.95: 0.965, brier: 0.034\n",
      "1.0: 1.0, brier: 0.0\n",
      "\n",
      "mse: 0.0030034055412728367\n",
      "brier score: 0.042023070264835975\n"
     ]
    },
    {
     "data": {
      "image/png": "[encoded data removed]",
      "text/plain": [
       "<matplotlib.figure.Figure at 0x1c2d15fe80>"
      ]
     },
     "metadata": {},
     "output_type": "display_data"
    }
   ],
   "source": [
    "check_model_accuracy_times(test_x2, test_y, regressor3, 5, 0)"
   ]
  },
  {
   "cell_type": "markdown",
   "metadata": {},
   "source": [
    "## PCA"
   ]
  },
  {
   "cell_type": "code",
   "execution_count": 42,
   "metadata": {
    "ExecuteTime": {
     "end_time": "2020-03-05T03:07:51.331236Z",
     "start_time": "2020-03-05T03:07:50.393643Z"
    }
   },
   "outputs": [],
   "source": [
    "# standardize data\n",
    "from sklearn.preprocessing import StandardScaler\n",
    "from sklearn.decomposition import PCA\n",
    "\n",
    "cols = list(train_x)\n",
    "train_x_values = StandardScaler().fit_transform(train_x.values)\n",
    "new_train_x = pd.DataFrame(data=train_x_values, columns=cols)\n",
    "\n",
    "# PCA\n",
    "num_comp = 8\n",
    "pca = PCA(n_components=num_comp)\n",
    "principalComponents = pca.fit_transform(new_train_x)\n",
    "principalDf = pd.DataFrame(data = principalComponents, columns = [\"pc%d\" %(i) for i in range(1, num_comp+1)])"
   ]
  },
  {
   "cell_type": "code",
   "execution_count": 43,
   "metadata": {
    "ExecuteTime": {
     "end_time": "2020-03-05T03:07:52.119660Z",
     "start_time": "2020-03-05T03:07:51.986599Z"
    }
   },
   "outputs": [
    {
     "name": "stdout",
     "output_type": "stream",
     "text": [
      "0: 0.15\n",
      "1: 0.27\n",
      "2: 0.38\n",
      "3: 0.48\n",
      "4: 0.57\n",
      "5: 0.66\n",
      "6: 0.75\n",
      "7: 0.81\n",
      "8: 0.85\n",
      "9: 0.89\n",
      "10: 0.91\n",
      "11: 0.93\n",
      "12: 0.95\n",
      "13: 0.96\n",
      "14: 0.97\n",
      "15: 0.98\n",
      "16: 0.99\n",
      "17: 0.99\n",
      "18: 1.0\n",
      "19: 1.0\n",
      "20: 1.0\n",
      "21: 1.0\n"
     ]
    },
    {
     "data": {
      "image/png": "[encoded data removed]",
      "text/plain": [
       "<matplotlib.figure.Figure at 0x1c619f6748>"
      ]
     },
     "metadata": {},
     "output_type": "display_data"
    }
   ],
   "source": [
    "n,d = np.shape(new_train_x)\n",
    "\n",
    "corr = np.dot(new_train_x.T,new_train_x)\n",
    "eig_val,eig_vect = np.linalg.eigh(corr) #compute the eigenvalues and eigenvectors\n",
    "idx = eig_val.argsort()[::-1]   # sort the eigenvalues\n",
    "eig_val = eig_val[idx] # eigenvalues in decreasing order\n",
    "eig_vect = eig_vect[:,idx] # eigenvectors in decreasing order\n",
    "\n",
    "# cumulative fraction of variance explained\n",
    "tot = sum(eig_val)\n",
    "cum = 0\n",
    "for i in range(len(eig_val)):\n",
    "    cum += eig_val[i]\n",
    "    print(str(i) + \": \" + str(round(cum/tot,2)))\n",
    "    \n",
    "plt.scatter(range(d),eig_val)\n",
    "plt.show()"
   ]
  },
  {
   "cell_type": "code",
   "execution_count": 31,
   "metadata": {
    "ExecuteTime": {
     "end_time": "2020-03-05T02:50:15.627822Z",
     "start_time": "2020-03-05T02:46:31.682117Z"
    }
   },
   "outputs": [
    {
     "data": {
      "text/plain": [
       "RandomForestRegressor(bootstrap=True, criterion='mse', max_depth=None,\n",
       "           max_features='auto', max_leaf_nodes=None,\n",
       "           min_impurity_decrease=0.0, min_impurity_split=None,\n",
       "           min_samples_leaf=5, min_samples_split=2,\n",
       "           min_weight_fraction_leaf=0.0, n_estimators=100, n_jobs=1,\n",
       "           oob_score=False, random_state=None, verbose=0, warm_start=False)"
      ]
     },
     "execution_count": 31,
     "metadata": {},
     "output_type": "execute_result"
    }
   ],
   "source": [
    "# fit tree\n",
    "from sklearn.ensemble import RandomForestRegressor\n",
    "\n",
    "regressor = RandomForestRegressor(n_estimators = 100, min_samples_leaf=5)\n",
    "regressor.fit(principalDf, train_y)"
   ]
  },
  {
   "cell_type": "code",
   "execution_count": 45,
   "metadata": {
    "ExecuteTime": {
     "end_time": "2020-03-05T03:09:00.647480Z",
     "start_time": "2020-03-05T03:09:00.601603Z"
    },
    "collapsed": true
   },
   "outputs": [],
   "source": [
    "# check accuracy using the brier score\n",
    "def check_model_accuracy_times_pca(old_old_test_x, old_test_x, old_test_y, model, start_time, end_time):\n",
    "    indices = old_test_x.index[(old_old_test_x[\"time\"] <= start_time) & \n",
    "                               (old_old_test_x[\"time\"] >= end_time)].tolist()\n",
    "    test_x = old_test_x.loc[indices, :]\n",
    "    test_y = [old_test_y[i] for i in indices]\n",
    "    \n",
    "    #print(test_x.head())\n",
    "    \n",
    "    x = np.arange(0,1.01,0.05)\n",
    "    y = []\n",
    "    brier = 0\n",
    "    se = 0\n",
    "    count = 0\n",
    "    for i in x:\n",
    "        cur_mean, cur_brier, cur_num = get_brier(test_x, test_y, model, i)\n",
    "        y.append(cur_mean)\n",
    "        print(str(round(i,2)) + \": \" + str(round(cur_mean,3)) + \", brier: \" + str(round(cur_brier/cur_num, 3)))\n",
    "        brier += cur_brier\n",
    "        se += (cur_mean-i)**2\n",
    "        count += cur_num\n",
    "\n",
    "    print(\"\")\n",
    "    print(\"mse: \" + str(se/len(x)))\n",
    "    print(\"brier score: \" + str(brier/count))\n",
    "\n",
    "    plt.close()\n",
    "    plt.plot(x,x) # for reference\n",
    "    plt.plot(x,y)\n",
    "    plt.xlabel(\"k\")\n",
    "    plt.ylabel(\"Winning probability\")\n",
    "    #plt.savefig(\"/Users/Bill/Documents/Fall 2019/THesis/interimreport/plot1.png\")\n",
    "    plt.show()"
   ]
  },
  {
   "cell_type": "code",
   "execution_count": 47,
   "metadata": {
    "ExecuteTime": {
     "end_time": "2020-03-05T03:10:13.603500Z",
     "start_time": "2020-03-05T03:09:24.816371Z"
    }
   },
   "outputs": [
    {
     "name": "stdout",
     "output_type": "stream",
     "text": [
      "0.0: 0.003, brier: 0.003\n",
      "0.05: 0.032, brier: 0.031\n",
      "0.1: 0.068, brier: 0.065\n",
      "0.15: 0.14, brier: 0.12\n",
      "0.2: 0.167, brier: 0.14\n",
      "0.25: 0.213, brier: 0.169\n",
      "0.3: 0.274, brier: 0.199\n",
      "0.35: 0.34, brier: 0.224\n",
      "0.4: 0.378, brier: 0.235\n",
      "0.45: 0.439, brier: 0.246\n",
      "0.5: 0.494, brier: 0.25\n",
      "0.55: 0.554, brier: 0.247\n",
      "0.6: 0.608, brier: 0.239\n",
      "0.65: 0.687, brier: 0.216\n",
      "0.7: 0.711, brier: 0.206\n",
      "0.75: 0.788, brier: 0.169\n",
      "0.8: 0.831, brier: 0.142\n",
      "0.85: 0.888, brier: 0.101\n",
      "0.9: 0.916, brier: 0.077\n",
      "0.95: 0.96, brier: 0.038\n",
      "1.0: 0.997, brier: 0.003\n",
      "\n",
      "mse: 0.000525601954420724\n",
      "brier score: 0.12142099469658607\n"
     ]
    },
    {
     "data": {
      "image/png": "[encoded data removed]",
      "text/plain": [
       "<matplotlib.figure.Figure at 0x1c619fdf28>"
      ]
     },
     "metadata": {},
     "output_type": "display_data"
    }
   ],
   "source": [
    "# standardize test data\n",
    "test_x_values = StandardScaler().fit_transform(test_x.values)\n",
    "new_test_x = pd.DataFrame(data=test_x_values, columns=cols)\n",
    "\n",
    "# fit test data with PCA\n",
    "test_pca = pca.fit_transform(new_test_x)\n",
    "test_pca = pd.DataFrame(data=test_pca, columns=[\"pc%d\" %(i) for i in range(1, num_comp+1)])\n",
    "\n",
    "check_model_accuracy_times_pca(test_x, test_pca, test_y, regressor, 60, 0)"
   ]
  },
  {
   "cell_type": "code",
   "execution_count": 48,
   "metadata": {
    "ExecuteTime": {
     "end_time": "2020-03-05T03:10:38.791545Z",
     "start_time": "2020-03-05T03:10:34.892316Z"
    }
   },
   "outputs": [
    {
     "name": "stdout",
     "output_type": "stream",
     "text": [
      "0.0: 0.002, brier: 0.002\n",
      "0.05: 0.023, brier: 0.023\n",
      "0.1: 0.039, brier: 0.041\n",
      "0.15: 0.112, brier: 0.101\n",
      "0.2: 0.152, brier: 0.131\n",
      "0.25: 0.17, brier: 0.147\n",
      "0.3: 0.241, brier: 0.186\n",
      "0.35: 0.296, brier: 0.211\n",
      "0.4: 0.33, brier: 0.225\n",
      "0.45: 0.364, brier: 0.24\n",
      "0.5: 0.488, brier: 0.25\n",
      "0.55: 0.55, brier: 0.247\n",
      "0.6: 0.592, brier: 0.241\n",
      "0.65: 0.651, brier: 0.228\n",
      "0.7: 0.649, brier: 0.231\n",
      "0.75: 0.789, brier: 0.167\n",
      "0.8: 0.833, brier: 0.14\n",
      "0.85: 0.913, brier: 0.083\n",
      "0.9: 0.929, brier: 0.067\n",
      "0.95: 0.977, brier: 0.023\n",
      "1.0: 1.0, brier: 0.0\n",
      "\n",
      "mse: 0.002113676146229134\n",
      "brier score: 0.05948602508873602\n"
     ]
    },
    {
     "data": {
      "image/png": "[encoded data removed]",
      "text/plain": [
       "<matplotlib.figure.Figure at 0x1c7ea19860>"
      ]
     },
     "metadata": {},
     "output_type": "display_data"
    }
   ],
   "source": [
    "check_model_accuracy_times_pca(test_x, test_pca, test_y, regressor, 5, 0)"
   ]
  }
 ],
 "metadata": {
  "kernelspec": {
   "display_name": "Python 3",
   "language": "python",
   "name": "python3"
  },
  "language_info": {
   "codemirror_mode": {
    "name": "ipython",
    "version": 3
   },
   "file_extension": ".py",
   "mimetype": "text/x-python",
   "name": "python",
   "nbconvert_exporter": "python",
   "pygments_lexer": "ipython3",
   "version": "3.6.8"
  }
 },
 "nbformat": 4,
 "nbformat_minor": 2
}
